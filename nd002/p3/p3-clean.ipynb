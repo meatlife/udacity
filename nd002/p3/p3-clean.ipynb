{
 "cells": [
  {
   "cell_type": "code",
   "execution_count": 1,
   "metadata": {
    "collapsed": true
   },
   "outputs": [],
   "source": [
    "import pandas as pd"
   ]
  },
  {
   "cell_type": "code",
   "execution_count": 6,
   "metadata": {
    "collapsed": false,
    "scrolled": true
   },
   "outputs": [],
   "source": [
    "df = pd.read_csv('movies.csv')"
   ]
  },
  {
   "cell_type": "code",
   "execution_count": 4,
   "metadata": {
    "collapsed": false,
    "scrolled": true
   },
   "outputs": [],
   "source": [
    "df1 = df.drop('genres', axis = 1).join(df['genres'].str.split('|', expand = True).stack().reset_index(level = 1, drop = True).rename('genres'))\n",
    "\n",
    "df1 = df1[['release_date', 'vote_average', 'budget_adj', 'revenue_adj', 'genres']]\n",
    "\n",
    "df1 = df1[df1['genres'].isnull() == False]\n",
    "\n",
    "df1.to_csv('movies_Q1.csv')"
   ]
  },
  {
   "cell_type": "code",
   "execution_count": 7,
   "metadata": {
    "collapsed": false,
    "scrolled": true
   },
   "outputs": [],
   "source": [
    "df21 = df[df['production_companies'].str.find('Universal Pictures') != -1].copy()\n",
    "\n",
    "df21 = df21[df21['production_companies'].isnull() == False]\n",
    "\n",
    "df21['production_companies'] = 'Universal Pictures'\n",
    "\n",
    "df22 = df[df['production_companies'].str.find('Paramount Pictures') != -1].copy()\n",
    "\n",
    "df22 = df22[df22['production_companies'].isnull() == False]\n",
    "\n",
    "df22['production_companies'] = 'Paramount Pictures'\n",
    "\n",
    "df2 = df21.merge(df22, how = 'outer')\n",
    "\n",
    "df2_1 = df2[['production_companies', 'original_title', 'director', 'release_date', 'vote_average', 'vote_average', 'budget_adj', 'revenue_adj']]\n",
    "\n",
    "df2_2 = df2.drop('genres', axis = 1).join(df['genres'].str.split('|', expand = True).stack().reset_index(level = 1, drop = True).rename('genres'))\n",
    "\n",
    "df2_2 = df2_2[['production_companies', 'genres', 'release_date', 'revenue_adj']]\n",
    "\n",
    "df2_3 = df2.drop('keywords', axis = 1).join(df['keywords'].str.split('|', expand = True).stack().reset_index(level = 1, drop = True).rename('keywords'))\n",
    "\n",
    "df2_3 = df2_3[['production_companies', 'keywords', 'release_date', 'revenue_adj']]\n",
    "\n",
    "df2_1.to_csv('movies_Q2.csv')\n",
    "\n",
    "df2_2.to_csv('movies_Q2_2.csv')\n",
    "\n",
    "df2_3.to_csv('movies_Q2_3.csv')"
   ]
  },
  {
   "cell_type": "code",
   "execution_count": 7,
   "metadata": {
    "collapsed": false
   },
   "outputs": [],
   "source": [
    "df3 = df[df['keywords'].isnull() == False].copy()\n",
    "\n",
    "df3 = df3[['popularity', 'keywords', 'runtime', 'release_date', 'vote_average', 'budget_adj', 'revenue_adj']]\n",
    "\n",
    "df3.to_csv('movies_Q3.csv')"
   ]
  },
  {
   "cell_type": "code",
   "execution_count": 8,
   "metadata": {
    "collapsed": true
   },
   "outputs": [],
   "source": [
    "df4 = df.drop('director', axis = 1).join(df['director'].str.split('|', expand = True)\\\n",
    "                                           .stack().reset_index(level = 1, drop = True).rename('director'))\n",
    "\n",
    "df4 = df4[['director', 'release_date', 'vote_average', 'revenue_adj']]\n",
    "\n",
    "df4 = df4[df4['director'].isnull() == False]\n",
    "\n",
    "df4.to_csv('movies_Q4_3.csv')"
   ]
  }
 ],
 "metadata": {
  "kernelspec": {
   "display_name": "Python 2",
   "language": "python",
   "name": "python2"
  },
  "language_info": {
   "codemirror_mode": {
    "name": "ipython",
    "version": 2
   },
   "file_extension": ".py",
   "mimetype": "text/x-python",
   "name": "python",
   "nbconvert_exporter": "python",
   "pygments_lexer": "ipython2",
   "version": "2.7.11"
  }
 },
 "nbformat": 4,
 "nbformat_minor": 0
}
